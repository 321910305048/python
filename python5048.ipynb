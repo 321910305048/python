{
  "nbformat": 4,
  "nbformat_minor": 0,
  "metadata": {
    "colab": {
      "name": "python5048.ipynb",
      "provenance": [],
      "collapsed_sections": [],
      "mount_file_id": "1L4FUH23Sd20u-BRAXAgXNKNjFGkSUm6R",
      "authorship_tag": "ABX9TyPn/av3/AaLQgObFzv2Dbi1",
      "include_colab_link": true
    },
    "kernelspec": {
      "name": "python3",
      "display_name": "Python 3"
    }
  },
  "cells": [
    {
      "cell_type": "markdown",
      "metadata": {
        "id": "view-in-github",
        "colab_type": "text"
      },
      "source": [
        "<a href=\"https://colab.research.google.com/github/321910305048/python/blob/master/python5048.ipynb\" target=\"_parent\"><img src=\"https://colab.research.google.com/assets/colab-badge.svg\" alt=\"Open In Colab\"/></a>"
      ]
    },
    {
      "cell_type": "markdown",
      "metadata": {
        "id": "44VMoa2gvKCI"
      },
      "source": [
        "Bhuvan al-\n",
        "321910305048"
      ]
    },
    {
      "cell_type": "markdown",
      "metadata": {
        "id": "fav6uv0ecsgS"
      },
      "source": [
        " Experiment-1 **practice** \n",
        "\n",
        "\n",
        "\n",
        "\n"
      ]
    },
    {
      "cell_type": "markdown",
      "metadata": {
        "id": "a2E1ekHNj1M3"
      },
      "source": [
        "* minimum among three numbers"
      ]
    },
    {
      "cell_type": "code",
      "metadata": {
        "id": "DUVvBhggdw4c",
        "outputId": "b2a9d170-8043-4b24-bbe7-126fe94370c9",
        "colab": {
          "base_uri": "https://localhost:8080/",
          "height": 34
        }
      },
      "source": [
        "a,b,c=4,7,2\n",
        "if(a<=b and a<=c):\n",
        "   print(a,\"is the smallest\")\n",
        "elif(b<=c and b<=a):\n",
        "   print(b,\"is the smallest\")\n",
        "else:\n",
        "   print(c,\"is the smallest\")"
      ],
      "execution_count": 1,
      "outputs": [
        {
          "output_type": "stream",
          "text": [
            "2 is the smallest\n"
          ],
          "name": "stdout"
        }
      ]
    },
    {
      "cell_type": "markdown",
      "metadata": {
        "id": "zqnE44O6kCxF"
      },
      "source": [
        "* find the gcd of two/three numbers "
      ]
    },
    {
      "cell_type": "code",
      "metadata": {
        "id": "Hcb5wXaqqFpr",
        "outputId": "e0879cbf-b9e5-47c6-fe04-645c46dc6a47",
        "colab": {
          "base_uri": "https://localhost:8080/",
          "height": 67
        }
      },
      "source": [
        "def gcd(a,b):\n",
        "  if(b==0):\n",
        "    return a\n",
        "  else:\n",
        "    return gcd(b,a%b)\n",
        "a=int(input())\n",
        "b=int(input())\n",
        "GCD=gcd(a,b)\n",
        "print(GCD)"
      ],
      "execution_count": 43,
      "outputs": [
        {
          "output_type": "stream",
          "text": [
            "8\n",
            "2\n",
            "2\n"
          ],
          "name": "stdout"
        }
      ]
    },
    {
      "cell_type": "markdown",
      "metadata": {
        "id": "N4Lkbbl0qM1j"
      },
      "source": [
        "* check whether the given number is perfect"
      ]
    },
    {
      "cell_type": "code",
      "metadata": {
        "id": "WN6GTQEbrNT8",
        "outputId": "cf630180-2f27-49a0-9f29-488abde92497",
        "colab": {
          "base_uri": "https://localhost:8080/",
          "height": 50
        }
      },
      "source": [
        "def perfect_number(n):\n",
        "    sum = 0\n",
        "    for x in range(1, n):\n",
        "        if n % x == 0:\n",
        "            sum += x\n",
        "    return sum == n\n",
        "n=int(input())    \n",
        "print(perfect_number(6))"
      ],
      "execution_count": 41,
      "outputs": [
        {
          "output_type": "stream",
          "text": [
            "22\n",
            "True\n"
          ],
          "name": "stdout"
        }
      ]
    },
    {
      "cell_type": "markdown",
      "metadata": {
        "id": "LgLRqSthsQFe"
      },
      "source": [
        "* print twin primes up to a specific limits "
      ]
    },
    {
      "cell_type": "code",
      "metadata": {
        "id": "Z9KyKnnYswpI",
        "outputId": "5209cf85-eb69-4e9a-ebb0-cd156727e405",
        "colab": {
          "base_uri": "https://localhost:8080/",
          "height": 151
        }
      },
      "source": [
        "def is_prime(n):\n",
        "   for i in range(2, n):\n",
        "      if n % i == 0:\n",
        "         return False\n",
        "   return True\n",
        "\n",
        "def generate_twins(start, end):\n",
        "   for i in range(start, end):\n",
        "      j = i + 2\n",
        "      if(is_prime(i) and is_prime(j)):\n",
        "         print(\"{:d} and {:d}\".format(i, j))\n",
        "\n",
        "generate_twins(2, 100)"
      ],
      "execution_count": 46,
      "outputs": [
        {
          "output_type": "stream",
          "text": [
            "3 and 5\n",
            "5 and 7\n",
            "11 and 13\n",
            "17 and 19\n",
            "29 and 31\n",
            "41 and 43\n",
            "59 and 61\n",
            "71 and 73\n"
          ],
          "name": "stdout"
        }
      ]
    },
    {
      "cell_type": "markdown",
      "metadata": {
        "id": "3wNMnvHwtBgd"
      },
      "source": [
        "*  print the prime numbers up to a specified limit  "
      ]
    },
    {
      "cell_type": "code",
      "metadata": {
        "id": "-_SrUm8ytiDa",
        "outputId": "41c638ce-101c-47fd-b538-e75b4025c1bc",
        "colab": {
          "base_uri": "https://localhost:8080/",
          "height": 269
        }
      },
      "source": [
        "lower = 900\n",
        "upper = 1000\n",
        "\n",
        "print(\"Prime numbers between\", lower, \"and\", upper, \"are:\")\n",
        "\n",
        "for num in range(lower, upper + 1):\n",
        "   # all prime numbers are greater than 1\n",
        "   if num > 1:\n",
        "       for i in range(2, num):\n",
        "           if (num % i) == 0:\n",
        "               break\n",
        "       else:\n",
        "           print(num)"
      ],
      "execution_count": 47,
      "outputs": [
        {
          "output_type": "stream",
          "text": [
            "Prime numbers between 900 and 1000 are:\n",
            "907\n",
            "911\n",
            "919\n",
            "929\n",
            "937\n",
            "941\n",
            "947\n",
            "953\n",
            "967\n",
            "971\n",
            "977\n",
            "983\n",
            "991\n",
            "997\n"
          ],
          "name": "stdout"
        }
      ]
    },
    {
      "cell_type": "markdown",
      "metadata": {
        "id": "INfnjP6jtoDf"
      },
      "source": [
        "* find sum of digits of a number .chexk whether given number is armstrong number or not"
      ]
    },
    {
      "cell_type": "code",
      "metadata": {
        "id": "5OK1QHPFuENL",
        "outputId": "fa249c46-d003-463f-e2ca-bebc34e3d8d9",
        "colab": {
          "base_uri": "https://localhost:8080/",
          "height": 50
        }
      },
      "source": [
        "# take input from the user\n",
        "num = int(input(\"Enter a number: \"))\n",
        "\n",
        "# initialize sum\n",
        "sum = 0\n",
        "\n",
        "# find the sum of the cube of each digit\n",
        "temp = num\n",
        "while temp > 0:\n",
        "   digit = temp % 10\n",
        "   sum += digit ** 3\n",
        "   temp //= 10\n",
        "\n",
        "# display the result\n",
        "if num == sum:\n",
        "   print(num,\"is an Armstrong number\")\n",
        "else:\n",
        "   print(num,\"is not an Armstrong number\")"
      ],
      "execution_count": 49,
      "outputs": [
        {
          "output_type": "stream",
          "text": [
            "Enter a number: 48\n",
            "48 is not an Armstrong number\n"
          ],
          "name": "stdout"
        }
      ]
    },
    {
      "cell_type": "markdown",
      "metadata": {
        "id": "eUulL9xAuPPA"
      },
      "source": [
        "* Python program to swap two variables"
      ]
    },
    {
      "cell_type": "code",
      "metadata": {
        "id": "sNcDnyL8uUmb",
        "outputId": "e3e4a91c-67cd-488f-ac0c-9eb2346487f5",
        "colab": {
          "base_uri": "https://localhost:8080/",
          "height": 50
        }
      },
      "source": [
        "x = 5\n",
        "y = 10\n",
        "\n",
        "# To take inputs from the user\n",
        "#x = input('Enter value of x: ')\n",
        "#y = input('Enter value of y: ')\n",
        "\n",
        "# create a temporary variable and swap the values\n",
        "temp = x\n",
        "x = y\n",
        "y = temp\n",
        "\n",
        "print('The value of x after swapping: {}'.format(x))\n",
        "print('The value of y after swapping: {}'.format(y))"
      ],
      "execution_count": 50,
      "outputs": [
        {
          "output_type": "stream",
          "text": [
            "The value of x after swapping: 10\n",
            "The value of y after swapping: 5\n"
          ],
          "name": "stdout"
        }
      ]
    },
    {
      "cell_type": "markdown",
      "metadata": {
        "id": "tjWZbDq4uaZn"
      },
      "source": [
        " * perform all the arithmetic operations"
      ]
    },
    {
      "cell_type": "code",
      "metadata": {
        "id": "voRLDoLQuuxu",
        "outputId": "b63f080a-d496-405b-eaa0-f4c0fcf6dfed",
        "colab": {
          "base_uri": "https://localhost:8080/",
          "height": 168
        }
      },
      "source": [
        "num1 = int(input('Enter First number: '))\n",
        "num2 = int(input('Enter Second number '))\n",
        "add = num1 + num2\n",
        "dif = num1 - num2\n",
        "mul = num1 * num2\n",
        "div = num1 / num2\n",
        "floor_div = num1 // num2\n",
        "power = num1 ** num2\n",
        "modulus = num1 % num2\n",
        "print('Sum of ',num1 ,'and' ,num2 ,'is :',add)\n",
        "print('Difference of ',num1 ,'and' ,num2 ,'is :',dif)\n",
        "print('Product of' ,num1 ,'and' ,num2 ,'is :',mul)\n",
        "print('Division of ',num1 ,'and' ,num2 ,'is :',div)\n",
        "print('Floor Division of ',num1 ,'and' ,num2 ,'is :',floor_div)\n",
        "print('Exponent of ',num1 ,'and' ,num2 ,'is :',power)\n",
        "print('Modulus of ',num1 ,'and' ,num2 ,'is :',modulus)"
      ],
      "execution_count": 51,
      "outputs": [
        {
          "output_type": "stream",
          "text": [
            "Enter First number: 4\n",
            "Enter Second number 8\n",
            "Sum of  4 and 8 is : 12\n",
            "Difference of  4 and 8 is : -4\n",
            "Product of 4 and 8 is : 32\n",
            "Division of  4 and 8 is : 0.5\n",
            "Floor Division of  4 and 8 is : 0\n",
            "Exponent of  4 and 8 is : 65536\n",
            "Modulus of  4 and 8 is : 4\n"
          ],
          "name": "stdout"
        }
      ]
    }
  ]
}